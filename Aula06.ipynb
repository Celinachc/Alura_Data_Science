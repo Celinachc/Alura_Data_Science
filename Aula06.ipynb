{
  "nbformat": 4,
  "nbformat_minor": 0,
  "metadata": {
    "colab": {
      "provenance": [],
      "authorship_tag": "ABX9TyMt5voNvGkXF6ssTvEqz9Ll",
      "include_colab_link": true
    },
    "kernelspec": {
      "name": "python3",
      "display_name": "Python 3"
    },
    "language_info": {
      "name": "python"
    }
  },
  "cells": [
    {
      "cell_type": "markdown",
      "metadata": {
        "id": "view-in-github",
        "colab_type": "text"
      },
      "source": [
        "<a href=\"https://colab.research.google.com/github/Celinachc/Alura_Data_Science/blob/main/Aula06.ipynb\" target=\"_parent\"><img src=\"https://colab.research.google.com/assets/colab-badge.svg\" alt=\"Open In Colab\"/></a>"
      ]
    },
    {
      "cell_type": "markdown",
      "source": [
        "Importando numpy"
      ],
      "metadata": {
        "id": "jlSi-PJVPFGV"
      }
    },
    {
      "cell_type": "code",
      "source": [
        "import numpy as np"
      ],
      "metadata": {
        "id": "dNF07q1s0Qk7"
      },
      "execution_count": 2,
      "outputs": []
    },
    {
      "cell_type": "markdown",
      "source": [
        "Criando massa de dados utilizando random"
      ],
      "metadata": {
        "id": "dmf2rI-zRF6V"
      }
    },
    {
      "cell_type": "code",
      "source": [
        "from numpy.random import default_rng"
      ],
      "metadata": {
        "id": "fpa7gcG50SCI"
      },
      "execution_count": 3,
      "outputs": []
    },
    {
      "cell_type": "code",
      "source": [
        "rng = default_rng()"
      ],
      "metadata": {
        "id": "gSCXRPQu0kbs"
      },
      "execution_count": 4,
      "outputs": []
    },
    {
      "cell_type": "code",
      "source": [
        "size = 200\n",
        "ids = rng.integers(low=15, high=1000, size=size)\n",
        "# ids_sequenciais = np.arange(start=1, stop=1001, dtype=int)\n",
        "# ids = rng.choice(ids_sequenciais, size=size, replace=False)\n",
        "idades = rng.integers(low=18, high=120, size=size)\n",
        "sexo = rng.choice(['M','F'], size=size)\n",
        "estados_civis = rng.choice(['solteiro', 'casado', 'divorciado', 'viuvo'], size=size)\n",
        "sinistros = rng.integers(low=0, high=5, size=size)\n",
        "premios = rng.normal(loc=1000, scale=200, size=size)\n"
      ],
      "metadata": {
        "id": "U_vJ_NEg1E1p"
      },
      "execution_count": 20,
      "outputs": []
    },
    {
      "cell_type": "code",
      "source": [
        "ids"
      ],
      "metadata": {
        "id": "e1hGDgO51yga"
      },
      "execution_count": null,
      "outputs": []
    },
    {
      "cell_type": "code",
      "source": [
        "idades"
      ],
      "metadata": {
        "id": "IjS5_bIA10FZ"
      },
      "execution_count": null,
      "outputs": []
    },
    {
      "cell_type": "code",
      "source": [
        "sexo"
      ],
      "metadata": {
        "id": "Ym7CEINF3FzN"
      },
      "execution_count": null,
      "outputs": []
    },
    {
      "cell_type": "code",
      "source": [
        "estados_civis"
      ],
      "metadata": {
        "id": "Koz7ALlA3s05"
      },
      "execution_count": null,
      "outputs": []
    },
    {
      "cell_type": "code",
      "source": [
        "sinistros"
      ],
      "metadata": {
        "id": "0zMzev_g8wPP"
      },
      "execution_count": null,
      "outputs": []
    },
    {
      "cell_type": "code",
      "source": [
        "premios"
      ],
      "metadata": {
        "id": "9E49-RVQ88d-"
      },
      "execution_count": null,
      "outputs": []
    },
    {
      "cell_type": "markdown",
      "source": [
        "Contando o número de clientes com idade maior que 30"
      ],
      "metadata": {
        "id": "mT1M7HdCSAPQ"
      }
    },
    {
      "cell_type": "code",
      "source": [
        "np.sum(idades > 30)"
      ],
      "metadata": {
        "id": "ypwFAcy69iDp"
      },
      "execution_count": null,
      "outputs": []
    },
    {
      "cell_type": "code",
      "source": [
        "# idades_maior_30 = idades > 30"
      ],
      "metadata": {
        "id": "4VnZCjZR_zlK"
      },
      "execution_count": 8,
      "outputs": []
    },
    {
      "cell_type": "code",
      "source": [
        "# idades_maior_30"
      ],
      "metadata": {
        "id": "QDqeRCCXANgw"
      },
      "execution_count": null,
      "outputs": []
    },
    {
      "cell_type": "code",
      "source": [
        "# idades[idades_maior_30]"
      ],
      "metadata": {
        "id": "nB5gNpGDAPHM"
      },
      "execution_count": null,
      "outputs": []
    },
    {
      "cell_type": "markdown",
      "source": [
        "Clientes com sinistros iguais a zero e com prêmio superior a 1.000,00"
      ],
      "metadata": {
        "id": "_-QUawV3ScLa"
      }
    },
    {
      "cell_type": "code",
      "source": [
        "np.sum([np.logical_and(premios > 1000, sinistros == 0)])"
      ],
      "metadata": {
        "id": "NdOinIPiAlib",
        "outputId": "e577bd65-1503-43aa-91e5-e1b892d28755",
        "colab": {
          "base_uri": "https://localhost:8080/"
        }
      },
      "execution_count": 33,
      "outputs": [
        {
          "output_type": "execute_result",
          "data": {
            "text/plain": [
              "20"
            ]
          },
          "metadata": {},
          "execution_count": 33
        }
      ]
    }
  ]
}