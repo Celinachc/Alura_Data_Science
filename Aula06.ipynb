{
  "nbformat": 4,
  "nbformat_minor": 0,
  "metadata": {
    "colab": {
      "provenance": [],
      "authorship_tag": "ABX9TyOT06kjvxLwYDnV8gh3/sRp",
      "include_colab_link": true
    },
    "kernelspec": {
      "name": "python3",
      "display_name": "Python 3"
    },
    "language_info": {
      "name": "python"
    }
  },
  "cells": [
    {
      "cell_type": "markdown",
      "metadata": {
        "id": "view-in-github",
        "colab_type": "text"
      },
      "source": [
        "<a href=\"https://colab.research.google.com/github/Celinachc/Alura_Data_Science/blob/main/Aula06.ipynb\" target=\"_parent\"><img src=\"https://colab.research.google.com/assets/colab-badge.svg\" alt=\"Open In Colab\"/></a>"
      ]
    },
    {
      "cell_type": "code",
      "source": [],
      "metadata": {
        "id": "CyvxGMYHz81N"
      },
      "execution_count": null,
      "outputs": []
    },
    {
      "cell_type": "code",
      "execution_count": null,
      "metadata": {
        "id": "LXjl7Px-zdK9"
      },
      "outputs": [],
      "source": [
        "# Importando numpy"
      ]
    },
    {
      "cell_type": "code",
      "source": [
        "import numpy as np"
      ],
      "metadata": {
        "id": "dNF07q1s0Qk7"
      },
      "execution_count": 1,
      "outputs": []
    },
    {
      "cell_type": "code",
      "source": [
        "from numpy.random import default_rng"
      ],
      "metadata": {
        "id": "fpa7gcG50SCI"
      },
      "execution_count": 3,
      "outputs": []
    },
    {
      "cell_type": "code",
      "source": [
        "rng = default_rng()"
      ],
      "metadata": {
        "id": "gSCXRPQu0kbs"
      },
      "execution_count": 4,
      "outputs": []
    },
    {
      "cell_type": "code",
      "source": [
        "# ids = rng.integers(low=15, high=1000, size=100)\n",
        "size = 200\n",
        "ids_sequenciais = np.arange(start=1, stop=1001, dtype=int)\n",
        "ids = rng.choice(ids_sequenciais, size=size, replace=False)\n",
        "idades = rng.integers(low=18, high=120, size=size)\n",
        "sexo = rng.choice(['M','F'], size=size)\n",
        "estados_civis = rng.choice(['solteiro', 'casado', 'divorciado', 'viuvo'], size=size)\n",
        "sinistros = rng.integers(low=0, high=5, size=size)\n",
        "premios = rng.normal(loc=1000, scale=200, size=size)\n"
      ],
      "metadata": {
        "id": "U_vJ_NEg1E1p"
      },
      "execution_count": 21,
      "outputs": []
    },
    {
      "cell_type": "code",
      "source": [
        "ids"
      ],
      "metadata": {
        "colab": {
          "base_uri": "https://localhost:8080/"
        },
        "id": "e1hGDgO51yga",
        "outputId": "cf5be96b-7c26-4ade-e7f7-e98fb4a046d7"
      },
      "execution_count": 22,
      "outputs": [
        {
          "output_type": "execute_result",
          "data": {
            "text/plain": [
              "array([834, 635, 426, 829, 968, 362, 446, 774, 302, 509, 454, 820, 195,\n",
              "       404,  97, 937, 533, 782, 697, 908, 427, 995, 300, 263, 201, 570,\n",
              "       227, 575, 335, 964, 713, 512,  73, 483, 631,   3, 329, 163, 467,\n",
              "       495, 492, 965, 839, 588, 417, 795, 720, 769, 909, 790, 717, 240,\n",
              "       364, 886, 346, 943, 112, 748, 593, 807,  22, 466, 579, 451, 412,\n",
              "       602, 358, 322, 235, 479,  29, 285, 234,  40,  76, 516, 219, 958,\n",
              "       992,   4, 591,  28, 975, 386, 520, 560, 143, 552, 442,  39, 108,\n",
              "       961, 423, 587, 703, 334, 797, 292, 472, 424, 548, 563,  67, 392,\n",
              "       526, 313, 811, 869, 974, 860, 410, 374, 237,  11, 601, 514, 382,\n",
              "       574, 663, 106, 809, 576,  20, 361,  32, 331, 760, 862, 901,  44,\n",
              "       282, 798, 153, 231, 507,  12, 729, 905, 128, 981,  96, 455, 930,\n",
              "        68, 177, 336, 166, 732, 158, 389, 413, 944, 216, 612, 388, 494,\n",
              "       799, 146, 982, 428, 911, 444, 327, 411, 138, 556, 202, 224, 741,\n",
              "       198, 269, 646, 107, 754, 596,  70, 805, 132, 171, 753, 480, 328,\n",
              "       553, 122, 337, 323, 945,  91, 176, 819, 468, 319, 922, 875,  49,\n",
              "        38, 648,  48, 837, 307])"
            ]
          },
          "metadata": {},
          "execution_count": 22
        }
      ]
    },
    {
      "cell_type": "code",
      "source": [
        "idades"
      ],
      "metadata": {
        "colab": {
          "base_uri": "https://localhost:8080/"
        },
        "id": "IjS5_bIA10FZ",
        "outputId": "9bcaed52-7315-4000-f4c7-5063134f6c32"
      },
      "execution_count": 10,
      "outputs": [
        {
          "output_type": "execute_result",
          "data": {
            "text/plain": [
              "array([ 22,  36,  45,  31,  70, 111,  90,  74,  82,  63,  57, 100,  65,\n",
              "        67,  32, 100, 118, 107,  55,  24,  22,  96,  80, 101, 108,  32,\n",
              "        66,  58,  55,  39,  99,  66, 101,  80,  97,  70,  24, 111,  55,\n",
              "        99, 112,  88,  37,  99,  29,  43,  78,  81,  56, 117,  89,  91,\n",
              "        74,  97,  49,  65,  38,  27,  33, 119, 117,  45, 109,  29,  89,\n",
              "       119,  18,  86,  44,  20,  65, 103,  33,  35,  63,  42,  63,  92,\n",
              "        70, 111,  23,  82,  52,  76,  76, 106,  94,  82, 106,  83,  67,\n",
              "        22, 112,  56,  86,  79, 113, 103, 113,  58])"
            ]
          },
          "metadata": {},
          "execution_count": 10
        }
      ]
    },
    {
      "cell_type": "code",
      "source": [
        "sexo"
      ],
      "metadata": {
        "colab": {
          "base_uri": "https://localhost:8080/"
        },
        "id": "Ym7CEINF3FzN",
        "outputId": "f5ac6891-eab8-4773-a444-8d8ec54d386f"
      },
      "execution_count": 12,
      "outputs": [
        {
          "output_type": "execute_result",
          "data": {
            "text/plain": [
              "array(['M', 'M', 'M', 'M', 'F', 'F', 'F', 'M', 'F', 'F', 'M', 'F', 'M',\n",
              "       'M', 'F', 'F', 'F', 'F', 'F', 'F', 'F', 'M', 'M', 'F', 'F', 'M',\n",
              "       'M', 'F', 'F', 'F', 'F', 'M', 'F', 'M', 'F', 'F', 'F', 'F', 'F',\n",
              "       'F', 'M', 'M', 'M', 'M', 'F', 'M', 'M', 'M', 'M', 'F', 'M', 'M',\n",
              "       'F', 'M', 'M', 'F', 'F', 'F', 'M', 'M', 'M', 'F', 'F', 'M', 'M',\n",
              "       'F', 'F', 'M', 'F', 'F', 'M', 'F', 'M', 'M', 'M', 'M', 'F', 'M',\n",
              "       'M', 'F', 'F', 'F', 'M', 'F', 'F', 'F', 'M', 'F', 'M', 'F', 'M',\n",
              "       'M', 'F', 'F', 'M', 'M', 'M', 'M', 'M', 'F'], dtype='<U1')"
            ]
          },
          "metadata": {},
          "execution_count": 12
        }
      ]
    },
    {
      "cell_type": "code",
      "source": [
        "estados_civis"
      ],
      "metadata": {
        "colab": {
          "base_uri": "https://localhost:8080/"
        },
        "id": "Koz7ALlA3s05",
        "outputId": "895aa6d0-7831-4882-a416-fe9306beea19"
      },
      "execution_count": 16,
      "outputs": [
        {
          "output_type": "execute_result",
          "data": {
            "text/plain": [
              "array(['solteiro', 'solteiro', 'solteiro', 'solteiro', 'casado',\n",
              "       'solteiro', 'divorciado', 'casado', 'divorciado', 'casado',\n",
              "       'divorciado', 'viuvo', 'solteiro', 'casado', 'solteiro',\n",
              "       'solteiro', 'divorciado', 'divorciado', 'casado', 'viuvo',\n",
              "       'solteiro', 'solteiro', 'casado', 'casado', 'casado', 'divorciado',\n",
              "       'viuvo', 'casado', 'viuvo', 'divorciado', 'viuvo', 'casado',\n",
              "       'viuvo', 'viuvo', 'casado', 'solteiro', 'viuvo', 'viuvo', 'casado',\n",
              "       'divorciado', 'viuvo', 'viuvo', 'casado', 'divorciado', 'solteiro',\n",
              "       'solteiro', 'solteiro', 'divorciado', 'solteiro', 'solteiro',\n",
              "       'viuvo', 'viuvo', 'divorciado', 'divorciado', 'viuvo', 'solteiro',\n",
              "       'viuvo', 'divorciado', 'solteiro', 'divorciado', 'viuvo', 'viuvo',\n",
              "       'divorciado', 'solteiro', 'viuvo', 'viuvo', 'solteiro', 'solteiro',\n",
              "       'viuvo', 'casado', 'casado', 'solteiro', 'divorciado', 'viuvo',\n",
              "       'solteiro', 'divorciado', 'viuvo', 'casado', 'solteiro',\n",
              "       'solteiro', 'casado', 'viuvo', 'viuvo', 'viuvo', 'solteiro',\n",
              "       'divorciado', 'viuvo', 'divorciado', 'divorciado', 'divorciado',\n",
              "       'casado', 'divorciado', 'divorciado', 'casado', 'viuvo', 'casado',\n",
              "       'solteiro', 'viuvo', 'casado', 'divorciado'], dtype='<U10')"
            ]
          },
          "metadata": {},
          "execution_count": 16
        }
      ]
    },
    {
      "cell_type": "code",
      "source": [
        "sinistros"
      ],
      "metadata": {
        "colab": {
          "base_uri": "https://localhost:8080/"
        },
        "id": "0zMzev_g8wPP",
        "outputId": "c07e83a2-1ea6-43b7-e1c2-0a643749d11e"
      },
      "execution_count": 18,
      "outputs": [
        {
          "output_type": "execute_result",
          "data": {
            "text/plain": [
              "array([3, 1, 2, 3, 4, 1, 2, 0, 4, 3, 3, 0, 1, 4, 0, 0, 3, 1, 0, 4, 2, 4,\n",
              "       0, 4, 2, 1, 2, 0, 0, 1, 2, 0, 4, 0, 3, 4, 3, 4, 1, 0, 2, 1, 1, 4,\n",
              "       0, 4, 0, 3, 2, 0, 1, 4, 3, 3, 4, 1, 4, 0, 4, 3, 0, 1, 0, 2, 4, 0,\n",
              "       3, 4, 4, 1, 1, 0, 2, 4, 2, 1, 2, 1, 3, 4, 1, 0, 1, 0, 0, 0, 0, 3,\n",
              "       4, 3, 4, 0, 0, 2, 2, 0, 2, 4, 1, 3])"
            ]
          },
          "metadata": {},
          "execution_count": 18
        }
      ]
    },
    {
      "cell_type": "code",
      "source": [
        "premios"
      ],
      "metadata": {
        "colab": {
          "base_uri": "https://localhost:8080/"
        },
        "id": "9E49-RVQ88d-",
        "outputId": "af47f9b3-4a93-4018-ea84-42cc599c908f"
      },
      "execution_count": 20,
      "outputs": [
        {
          "output_type": "execute_result",
          "data": {
            "text/plain": [
              "array([ 877.51752639,  816.32300883, 1246.36353928, 1189.15134932,\n",
              "       1127.79506389, 1126.95549176, 1032.87849509,  873.65421067,\n",
              "        693.87546645,  864.44003306, 1029.0183761 ,  841.20409484,\n",
              "       1110.44342278,  873.21214529, 1382.69577493,  800.66724921,\n",
              "        871.20820255,  796.17483041, 1206.23474876,  910.96431802,\n",
              "        907.1697338 , 1188.89510287,  928.63601726, 1096.7407687 ,\n",
              "       1425.93780745, 1135.86284773,  919.04349816, 1183.28720314,\n",
              "        846.3424144 , 1112.13996252, 1197.87042011, 1048.87052843,\n",
              "        727.89996055,  630.32954298, 1015.61392771, 1130.93428972,\n",
              "        795.75659922, 1232.57986645, 1005.27556902,  908.4416237 ,\n",
              "       1267.92351249, 1076.51133451,  991.55709879,  883.2027301 ,\n",
              "       1128.36769588,  942.89612458, 1034.66456751, 1090.68455539,\n",
              "       1118.98951046, 1002.99267886, 1025.65100414,  821.47490613,\n",
              "        846.65968644, 1087.31714244,  554.40428099,  741.07831162,\n",
              "       1009.24036768,  799.64791253, 1284.38170818,  913.44114483,\n",
              "       1023.64587619,  903.43689752, 1156.49262524,  978.32402685,\n",
              "        833.24016779,  920.79120854,  923.18000922,  959.17948865,\n",
              "       1174.51055279,  987.57066294, 1022.08782696,  933.53502338,\n",
              "       1300.45984516,  920.28902092,  781.82289158, 1190.75819102,\n",
              "       1208.93088891, 1125.85856299, 1079.27662712,  667.49084085,\n",
              "        859.83084866, 1181.42087304, 1053.05123906,  866.16494838,\n",
              "       1230.73996673, 1196.01014168, 1032.28808065, 1138.63700743,\n",
              "        890.65467612,  743.18446389,  703.84203005,  663.50248303,\n",
              "        618.83189772,  939.38270145,  941.90887762, 1460.40120861,\n",
              "       1062.85899878,  980.23587597, 1219.9606016 ,  905.07667015])"
            ]
          },
          "metadata": {},
          "execution_count": 20
        }
      ]
    },
    {
      "cell_type": "code",
      "source": [
        "np.sum(idades > 30)"
      ],
      "metadata": {
        "colab": {
          "base_uri": "https://localhost:8080/"
        },
        "id": "ypwFAcy69iDp",
        "outputId": "8fbcdc9c-8cee-463d-e01c-11ebd2778ed0"
      },
      "execution_count": 23,
      "outputs": [
        {
          "output_type": "execute_result",
          "data": {
            "text/plain": [
              "175"
            ]
          },
          "metadata": {},
          "execution_count": 23
        }
      ]
    },
    {
      "cell_type": "code",
      "source": [
        "idades_maior_30 = idades > 30"
      ],
      "metadata": {
        "id": "4VnZCjZR_zlK"
      },
      "execution_count": 24,
      "outputs": []
    },
    {
      "cell_type": "code",
      "source": [
        "idades_maior_30"
      ],
      "metadata": {
        "colab": {
          "base_uri": "https://localhost:8080/"
        },
        "id": "QDqeRCCXANgw",
        "outputId": "d990bd35-d7af-4546-ad2d-e7e70a523e14"
      },
      "execution_count": 25,
      "outputs": [
        {
          "output_type": "execute_result",
          "data": {
            "text/plain": [
              "array([False,  True, False,  True,  True,  True,  True, False,  True,\n",
              "        True,  True,  True,  True,  True,  True,  True, False,  True,\n",
              "        True,  True,  True,  True,  True,  True, False,  True,  True,\n",
              "        True,  True,  True,  True,  True,  True,  True,  True, False,\n",
              "        True,  True,  True, False,  True,  True,  True,  True,  True,\n",
              "        True, False,  True,  True,  True,  True,  True, False,  True,\n",
              "        True,  True,  True, False,  True,  True,  True,  True,  True,\n",
              "        True,  True,  True,  True,  True,  True, False,  True,  True,\n",
              "        True,  True,  True,  True,  True,  True,  True,  True,  True,\n",
              "        True, False,  True,  True,  True,  True,  True,  True,  True,\n",
              "       False,  True,  True,  True, False, False,  True,  True,  True,\n",
              "       False,  True,  True, False,  True,  True,  True,  True,  True,\n",
              "        True,  True,  True,  True,  True,  True,  True, False, False,\n",
              "        True,  True,  True,  True,  True,  True,  True,  True,  True,\n",
              "        True,  True,  True,  True, False,  True,  True,  True,  True,\n",
              "        True,  True,  True, False,  True,  True,  True,  True,  True,\n",
              "        True,  True,  True,  True,  True, False,  True,  True,  True,\n",
              "       False,  True,  True,  True,  True,  True,  True,  True,  True,\n",
              "        True,  True,  True, False,  True,  True,  True,  True,  True,\n",
              "        True,  True,  True,  True,  True, False,  True,  True,  True,\n",
              "        True,  True,  True,  True,  True,  True,  True,  True,  True,\n",
              "        True,  True,  True,  True,  True,  True,  True,  True,  True,\n",
              "        True,  True])"
            ]
          },
          "metadata": {},
          "execution_count": 25
        }
      ]
    },
    {
      "cell_type": "code",
      "source": [
        "idades[idades_maior_30]"
      ],
      "metadata": {
        "colab": {
          "base_uri": "https://localhost:8080/"
        },
        "id": "nB5gNpGDAPHM",
        "outputId": "ed83be31-a126-438d-8d4c-d883a4db9d29"
      },
      "execution_count": 27,
      "outputs": [
        {
          "output_type": "execute_result",
          "data": {
            "text/plain": [
              "array([ 77, 111,  63, 102,  35,  95,  51,  72,  75,  34,  62,  89,  90,\n",
              "        92,  75, 114,  75,  59,  94,  44,  88,  38,  63,  71,  34,  42,\n",
              "        96,  68, 111,  60, 104,  86, 103,  78,  43,  96,  55,  72,  58,\n",
              "        69,  94,  78,  80, 107, 100,  68,  60,  72,  60, 113,  51,  44,\n",
              "        44,  36,  42,  74, 117,  67,  32,  74, 116,  81,  60,  48,  36,\n",
              "       106,  46,  92,  78,  85,  69,  90,  39, 108,  52,  38,  64,  38,\n",
              "        92, 110, 112,  61,  94,  32,  42,  99, 118, 119,  46,  87,  31,\n",
              "       102,  47,  42,  31,  96, 102,  55,  36, 118,  58,  45,  86,  91,\n",
              "        82, 119,  71,  31,  58,  32,  43,  87,  75,  94,  96,  98, 101,\n",
              "        47,  36,  75,  45,  33,  67,  54, 113,  79,  32,  69,  51,  82,\n",
              "        69,  99, 111, 105, 108,  47,  34,  54,  37,  69, 114,  53,  56,\n",
              "        78,  53,  83,  93,  74,  47,  35, 112,  91,  83,  48,  67, 112,\n",
              "        53, 117, 108,  70,  47, 107,  69, 108,  99,  77,  42, 119,  83,\n",
              "       108,  54,  35, 101,  95, 100])"
            ]
          },
          "metadata": {},
          "execution_count": 27
        }
      ]
    },
    {
      "cell_type": "code",
      "source": [],
      "metadata": {
        "id": "NdOinIPiAlib"
      },
      "execution_count": null,
      "outputs": []
    }
  ]
}